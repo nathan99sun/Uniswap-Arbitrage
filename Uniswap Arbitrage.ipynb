{
 "cells": [
  {
   "cell_type": "code",
   "execution_count": 2059,
   "id": "14aa1b43",
   "metadata": {},
   "outputs": [],
   "source": [
    "from scipy.sparse import csr_matrix\n",
    "from scipy.sparse.csgraph import bellman_ford\n",
    "from scipy.optimize import minimize\n",
    "import pandas as pd\n",
    "import numpy as np\n",
    "import re\n",
    "import networkx as nx\n",
    "from openpyxl import load_workbook\n",
    "import random\n"
   ]
  },
  {
   "cell_type": "code",
   "execution_count": 4357,
   "id": "cb2b2a94",
   "metadata": {},
   "outputs": [],
   "source": [
    "data = pd.read_excel(\"data/9.18.21.xlsx\")\n",
    "date = str(data[\"Date\"][0].month) + \"/\" + str(data[\"Date\"][0].day) + \"/\" + str(data[\"Date\"][0].year)\n",
    "\n",
    "tokens = []\n",
    "for elt in data['Pool Tokens']:\n",
    "    res = re.split(' / ', elt)\n",
    "    if res[0] not in tokens:\n",
    "        tokens.append(res[0])\n",
    "    if res[1] not in tokens:\n",
    "        tokens.append(res[1])\n",
    "        \n",
    "l = len(tokens)"
   ]
  },
  {
   "cell_type": "code",
   "execution_count": 4358,
   "id": "ab6342a7",
   "metadata": {},
   "outputs": [],
   "source": [
    "def construct_graph(data):\n",
    "    G = nx.DiGraph()\n",
    "    for elt in tokens:\n",
    "        G.add_node(elt)\n",
    "    for index, row in data[['Pool Tokens', 'Volume Token 0 (Excel)', 'Volume Token 1 (Excel)', 'Volume USD (Excel)', 'Fees USD (Excel)']].iterrows():\n",
    "        token1, token2 = re.split(' / ', row[0])\n",
    "        volume1 = row[1]\n",
    "        volume2 = row[2]\n",
    "#         if volume1 == volume2 and volume1 !=0 and volume2 !=0:\n",
    "#             raise Exception(\"EQUALITY\")\n",
    "        if volume1 != 0 and volume2 !=0:\n",
    "            if row[3] !=0:\n",
    "                feetier = row[4]/row[3]\n",
    "            else:\n",
    "                feetier = 0.003\n",
    "            #print(feetier)\n",
    "            G.add_weighted_edges_from( [(token1, token2, -np.log(volume2/volume1 * (1-feetier)))] )\n",
    "            G.add_weighted_edges_from( [(token2, token1, -np.log(volume1/volume2 * (1-feetier)))] )\n",
    "    return G"
   ]
  },
  {
   "cell_type": "code",
   "execution_count": 4359,
   "id": "8a49087f",
   "metadata": {},
   "outputs": [],
   "source": [
    "G = construct_graph(data)\n",
    "def find_cycle(G, tokens):\n",
    "    random.shuffle(tokens)\n",
    "    for t in tokens:\n",
    "        try:\n",
    "            nx.find_negative_cycle(G, t)\n",
    "        except Exception:\n",
    "            pass\n",
    "        else:\n",
    "            cycle = nx.find_negative_cycle(G, t)\n",
    "            if len(cycle)>3:\n",
    "                return nx.find_negative_cycle(G, t)"
   ]
  },
  {
   "cell_type": "code",
   "execution_count": 4360,
   "id": "3e7d9b6f",
   "metadata": {},
   "outputs": [],
   "source": [
    "# WRITE PROGRAM THAT NUMERICALLY CALCULATES HOW MUCH YOU GAINED IN ARBITRAGE"
   ]
  },
  {
   "cell_type": "code",
   "execution_count": 4361,
   "id": "a25a381e",
   "metadata": {},
   "outputs": [],
   "source": [
    "def uniswap_rate(A,B,alpha):\n",
    "    return B/(A+alpha)\n",
    "\n",
    "def revenue(q, cycle, dataset):\n",
    "    pools = []\n",
    "    for i in range(len(cycle)-1):\n",
    "        token1 = cycle[i]\n",
    "        token2 = cycle[i+1]\n",
    "        if dataset.isin([token1 + \" / \" + token2]).any().any():\n",
    "            pool =  dataset.loc[(dataset[\"Pool Tokens\"] == token1 + \" / \" + token2)].iloc[-1]\n",
    "            q1 = pool[\"Volume Token 0 (Excel)\"]\n",
    "            q2 = pool[\"Volume Token 1 (Excel)\"]\n",
    "        else:\n",
    "            pool =  dataset.loc[(dataset[\"Pool Tokens\"] == token2 + \" / \" + token1)].iloc[-1]\n",
    "            q2 = pool[\"Volume Token 0 (Excel)\"]\n",
    "            q1 = pool[\"Volume Token 1 (Excel)\"]\n",
    "        \n",
    "        volume = pool['Volume USD (Excel)']\n",
    "        fees = pool['Fees USD (Excel)']\n",
    "        \n",
    "        if volume != 0:\n",
    "            feetier = fees/volume\n",
    "        else:\n",
    "            feetier = 0.003\n",
    "        \n",
    "        \n",
    "        pools.append([q1,q2,feetier])\n",
    "    alpha = q\n",
    "    for [q1,q2,feetier] in pools:\n",
    "        if alpha > q1:\n",
    "            return 0\n",
    "        beta = (1-feetier) * alpha * uniswap_rate(q1,q2,alpha)\n",
    "        alpha = beta\n",
    "    return -beta"
   ]
  },
  {
   "cell_type": "code",
   "execution_count": 4362,
   "id": "22283e23",
   "metadata": {},
   "outputs": [
    {
     "name": "stdout",
     "output_type": "stream",
     "text": [
      "['WBTC', 'XYO', 'UNI', 'WBTC']\n",
      "['WBTC', 'XYO', 'UNI', 'WBTC']\n",
      "['WBTC', 'MM', 'USDT', 'WBTC']\n",
      "       message: Optimization terminated successfully.\n",
      "       success: True\n",
      "        status: 0\n",
      "           fun: -19.200403288925006\n",
      "             x: [-3.791e-02]\n",
      "           nit: 45\n",
      "          nfev: 93\n",
      " final_simplex: (array([[-3.791e-02],\n",
      "                       [-3.791e-02]]), array([-1.920e+01, -1.920e+01]))\n"
     ]
    }
   ],
   "source": [
    "def prof(q, cycle):\n",
    "    return revenue(q, cycle, data)+q\n",
    "\n",
    "while True:\n",
    "    cycle = find_cycle(G, tokens)\n",
    "    print(cycle)\n",
    "    fun = minimize(prof, [0.1], cycle  ,method = 'Nelder-Mead', options={'maxiter':250, 'maxfev':500})\n",
    "    if fun.success:\n",
    "        print(fun)\n",
    "        m = -fun.fun\n",
    "        break;"
   ]
  },
  {
   "cell_type": "code",
   "execution_count": 4363,
   "id": "a5bacfe0",
   "metadata": {},
   "outputs": [],
   "source": [
    "filename = \"Profits.xlsx\"\n",
    "workbook = load_workbook(filename)\n",
    "worksheet = workbook.active\n",
    "data = {'Quantity': [m], 'Security': [cycle[0]], 'Date': [date]}\n",
    "for record in list(zip(*data.values())):\n",
    "    worksheet.append(record)\n",
    "    \n",
    "workbook.save(filename)"
   ]
  },
  {
   "cell_type": "code",
   "execution_count": 4364,
   "id": "80fcfadc",
   "metadata": {},
   "outputs": [
    {
     "data": {
      "text/plain": [
       "19.200403288925006"
      ]
     },
     "execution_count": 4364,
     "metadata": {},
     "output_type": "execute_result"
    }
   ],
   "source": [
    "m"
   ]
  },
  {
   "cell_type": "code",
   "execution_count": null,
   "id": "ddc69671",
   "metadata": {},
   "outputs": [],
   "source": []
  },
  {
   "cell_type": "code",
   "execution_count": 3152,
   "id": "3e9c0a20",
   "metadata": {},
   "outputs": [],
   "source": [
    "# TRYING TO ARBITRAGE EVERYTHING IN UNISWAP MARKET"
   ]
  },
  {
   "cell_type": "code",
   "execution_count": 3214,
   "id": "dd26dafd",
   "metadata": {},
   "outputs": [],
   "source": [
    "def trade(cycle, dataset):\n",
    "    fun = minimize(prof, [0.0000001],cycle, method = 'Nelder-Mead')\n",
    "    x = fun.x\n",
    "    profit = -fun.fun\n",
    "    if profit >0:\n",
    "        for i in range(len(cycle)-1):\n",
    "            token1 = cycle[i]\n",
    "            token2 = cycle[i+1]\n",
    "            if dataset.isin([token1 + \" / \" + token2]).any().any():\n",
    "                pool =  dataset.loc[(dataset[\"Pool Tokens\"] == token1 + \" / \" + token2)].iloc[-1]\n",
    "                q1 = pool[\"Volume Token 0 (Excel)\"]\n",
    "                q2 = pool[\"Volume Token 1 (Excel)\"]\n",
    "                volume = pool['Volume USD (Excel)']\n",
    "                fees = pool['Fees USD (Excel)']\n",
    "                if volume != 0:\n",
    "                    feetier = fees/volume\n",
    "                else:\n",
    "                    feetier = 0.003\n",
    "\n",
    "                index = dataset.loc[(dataset[\"Pool Tokens\"] == token1 + \" / \" + token2)].iloc[-1].name\n",
    "                #print(dataset.at[index, \"Volume Token 0 (Excel)\"])\n",
    "                dataset.at[index, \"Volume Token 0 (Excel)\"] = q1 + x\n",
    "                dataset.at[index, \"Volume Token 1 (Excel)\"] = q2 - (1-feetier) * x * uniswap_rate(q1,q2,x)\n",
    "                x = (1-feetier) * x * uniswap_rate(q1,q2,x)\n",
    "            else:\n",
    "                pool =  dataset.loc[(dataset[\"Pool Tokens\"] == token2 + \" / \" + token1)].iloc[-1]\n",
    "                q1 = pool[\"Volume Token 0 (Excel)\"]\n",
    "                q2 = pool[\"Volume Token 1 (Excel)\"]\n",
    "                volume = pool['Volume USD (Excel)']\n",
    "                fees = pool['Fees USD (Excel)']\n",
    "                if volume != 0:\n",
    "                    feetier = fees/volume\n",
    "                else:\n",
    "                    feetier = 0.003\n",
    "\n",
    "                index = dataset.loc[(dataset[\"Pool Tokens\"] == token2 + \" / \" + token1)].iloc[-1].name\n",
    "                #print(dataset.at[index, \"Volume Token 0 (Excel)\"])\n",
    "                dataset.at[index, \"Volume Token 0 (Excel)\"] = q1 - (1-feetier) * x * uniswap_rate(q2,q1,x)\n",
    "                dataset.at[index, \"Volume Token 1 (Excel)\"] = q2 + x\n",
    "                x = (1-feetier) * x * uniswap_rate(q2,q1,x)\n",
    "    else:\n",
    "        profit = 0\n",
    "    return dataset, profit"
   ]
  },
  {
   "cell_type": "code",
   "execution_count": 3215,
   "id": "f30dce8e",
   "metadata": {},
   "outputs": [
    {
     "name": "stdout",
     "output_type": "stream",
     "text": [
      "0.24016757037459513\n",
      "33.6980788760594\n",
      "46.07377639689297\n",
      "1337913.3669153964\n",
      "1337917.2522066978\n",
      "1337917.252250512\n",
      "1337917.2523281956\n",
      "1337917.2523621034\n",
      "1337970.1459281687\n",
      "1337970.146943484\n"
     ]
    }
   ],
   "source": [
    "profit=0\n",
    "for _ in range(10):\n",
    "    cycle = find_cycle(G, tokens)\n",
    "    if len(cycle) <=3:\n",
    "        break;\n",
    "    data, p = trade(cycle, data)\n",
    "    profit += p\n",
    "    G = construct_graph(data)\n",
    "    print(profit)"
   ]
  },
  {
   "cell_type": "code",
   "execution_count": null,
   "id": "20f823d7",
   "metadata": {},
   "outputs": [],
   "source": []
  },
  {
   "cell_type": "code",
   "execution_count": null,
   "id": "ddf49ba8",
   "metadata": {},
   "outputs": [],
   "source": []
  }
 ],
 "metadata": {
  "kernelspec": {
   "display_name": "Python 3 (ipykernel)",
   "language": "python",
   "name": "python3"
  },
  "language_info": {
   "codemirror_mode": {
    "name": "ipython",
    "version": 3
   },
   "file_extension": ".py",
   "mimetype": "text/x-python",
   "name": "python",
   "nbconvert_exporter": "python",
   "pygments_lexer": "ipython3",
   "version": "3.8.8"
  }
 },
 "nbformat": 4,
 "nbformat_minor": 5
}
