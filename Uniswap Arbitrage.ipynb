{
 "cells": [
  {
   "cell_type": "code",
   "execution_count": 213,
   "id": "14aa1b43",
   "metadata": {},
   "outputs": [],
   "source": [
    "from scipy.sparse import csr_matrix\n",
    "from scipy.sparse.csgraph import bellman_ford\n",
    "from scipy.optimize import minimize\n",
    "import pandas as pd\n",
    "import numpy as np\n",
    "import re\n",
    "import networkx as nx\n",
    "from openpyxl import load_workbook"
   ]
  },
  {
   "cell_type": "code",
   "execution_count": 817,
   "id": "cb2b2a94",
   "metadata": {},
   "outputs": [],
   "source": [
    "data = pd.read_excel(\"data/1.2.24.xlsx\")\n",
    "date = str(data[\"Date\"][0].month) + \"/\" + str(data[\"Date\"][0].day) + \"/\" + str(data[\"Date\"][0].year)\n",
    "\n",
    "tokens = []\n",
    "for elt in data['Pool Tokens']:\n",
    "    res = re.split(' / ', elt)\n",
    "    if res[0] not in tokens:\n",
    "        tokens.append(res[0])\n",
    "    if res[1] not in tokens:\n",
    "        tokens.append(res[1])\n",
    "        \n",
    "l = len(tokens)"
   ]
  },
  {
   "cell_type": "code",
   "execution_count": 818,
   "id": "70eb8073",
   "metadata": {},
   "outputs": [],
   "source": [
    "# graph=pd.DataFrame(np.zeros((l,l)),columns=tokens,index=tokens)\n",
    "# for index, row in data[['Pool Tokens', 'Volume Token 0 (Excel)', 'Volume Token 1 (Excel)', 'Volume USD (Excel)', 'Fees USD (Excel)']].iterrows():\n",
    "#     token1, token2 = re.split(' / ', row[0])\n",
    "#     volume1 = row[1]\n",
    "#     volume2 = row[2]\n",
    "#     if volume1 == volume2 and volume1 !=0 and volume2 !=0:\n",
    "#         raise Exception(\"EQUALITY\")\n",
    "#     if volume1 != 0 and volume2 !=0:\n",
    "#         if row[3] !=0:\n",
    "#             feetier = row[4]/row[3]\n",
    "#         else:\n",
    "#             feetier = 0.003\n",
    "#         #print(feetier)\n",
    "#         graph.loc[token1, token2] = -np.log(volume2/volume1 * (1-feetier))\n",
    "#         graph.loc[token2, token1] = -np.log(volume1/volume2 * (1-feetier))"
   ]
  },
  {
   "cell_type": "code",
   "execution_count": 819,
   "id": "1212c9ac",
   "metadata": {},
   "outputs": [],
   "source": [
    "# graph = [\n",
    "# [0, np.log(9/16) ,np.log(18/25)],\n",
    "# [np.log(16/9), 0, np.log(32/25)],\n",
    "# [np.log(25/18), np.log(25/32), 0]\n",
    "# ] -3.489095140951183\n",
    "# graph = csr_matrix(graph)\n",
    "# print(graph)"
   ]
  },
  {
   "cell_type": "code",
   "execution_count": 820,
   "id": "48ea8c10",
   "metadata": {},
   "outputs": [],
   "source": [
    "#dist_matrix, predecessors = bellman_ford(csgraph=graph, directed=True, return_predecessors=True)"
   ]
  },
  {
   "cell_type": "code",
   "execution_count": 821,
   "id": "2840adc1",
   "metadata": {},
   "outputs": [],
   "source": [
    "#dist_matrix"
   ]
  },
  {
   "cell_type": "code",
   "execution_count": 822,
   "id": "ab6342a7",
   "metadata": {},
   "outputs": [],
   "source": [
    "G = nx.DiGraph()\n",
    "for elt in tokens:\n",
    "    G.add_node(elt)\n",
    "for index, row in data[['Pool Tokens', 'Volume Token 0 (Excel)', 'Volume Token 1 (Excel)', 'Volume USD (Excel)', 'Fees USD (Excel)']].iterrows():\n",
    "    token1, token2 = re.split(' / ', row[0])\n",
    "    volume1 = row[1]\n",
    "    volume2 = row[2]\n",
    "    if volume1 == volume2 and volume1 !=0 and volume2 !=0:\n",
    "        raise Exception(\"EQUALITY\")\n",
    "    if volume1 != 0 and volume2 !=0:\n",
    "        if row[3] !=0:\n",
    "            feetier = row[4]/row[3]\n",
    "        else:\n",
    "            feetier = 0.003\n",
    "        #print(feetier)\n",
    "        G.add_weighted_edges_from( [(token1, token2, -np.log(volume2/volume1 * (1-feetier)))] )\n",
    "        G.add_weighted_edges_from( [(token2, token1, -np.log(volume1/volume2 * (1-feetier)))] )"
   ]
  },
  {
   "cell_type": "code",
   "execution_count": 823,
   "id": "8a49087f",
   "metadata": {},
   "outputs": [
    {
     "data": {
      "text/plain": [
       "['WETH', 'WETH']"
      ]
     },
     "execution_count": 823,
     "metadata": {},
     "output_type": "execute_result"
    }
   ],
   "source": [
    "def find_cycle(G, tokens):\n",
    "    for t in tokens:\n",
    "        try:\n",
    "            nx.find_negative_cycle(G, t)\n",
    "        except Exception:\n",
    "            pass\n",
    "        else:\n",
    "            return nx.find_negative_cycle(G, t)\n",
    "find_cycle(G, tokens)"
   ]
  },
  {
   "cell_type": "code",
   "execution_count": 805,
   "id": "3e7d9b6f",
   "metadata": {},
   "outputs": [],
   "source": [
    "# WRITE PROGRAM THAT NUMERICALLY CALCULATES HOW MUCH YOU GAINED IN ARBITRAGE"
   ]
  },
  {
   "cell_type": "code",
   "execution_count": 806,
   "id": "a25a381e",
   "metadata": {},
   "outputs": [],
   "source": [
    "def uniswap_rate(A,B,alpha):\n",
    "    return B/(A*(1+alpha/A)**2)\n",
    "\n",
    "def revenue(q, cycle, dataset):\n",
    "    pools = []\n",
    "    for i in range(len(cycle)-1):\n",
    "        token1 = cycle[i]\n",
    "        token2 = cycle[i+1]\n",
    "        if dataset.isin([token1 + \" / \" + token2]).any().any():\n",
    "            pool =  dataset.loc[(dataset[\"Pool Tokens\"] == token1 + \" / \" + token2)].iloc[-1]\n",
    "            q1 = pool[\"Volume Token 0 (Excel)\"]\n",
    "            q2 = pool[\"Volume Token 1 (Excel)\"]\n",
    "        else:\n",
    "            pool =  dataset.loc[(dataset[\"Pool Tokens\"] == token2 + \" / \" + token1)].iloc[-1]\n",
    "            q2 = pool[\"Volume Token 0 (Excel)\"]\n",
    "            q1 = pool[\"Volume Token 1 (Excel)\"]\n",
    "        \n",
    "        volume = pool['Volume USD (Excel)']\n",
    "        fees = pool['Fees USD (Excel)']\n",
    "        \n",
    "        if volume != 0:\n",
    "            feetier = fees/volume\n",
    "        else:\n",
    "            feetier = 0.003\n",
    "        \n",
    "        \n",
    "        pools.append([q1,q2,feetier])\n",
    "    alpha = q\n",
    "    for [q1,q2,feetier] in pools:\n",
    "        if alpha > q1:\n",
    "            return np.inf\n",
    "        beta = (1-feetier) * alpha * uniswap_rate(q1,q2,alpha)\n",
    "        alpha = beta\n",
    "    return -beta"
   ]
  },
  {
   "cell_type": "code",
   "execution_count": 807,
   "id": "22283e23",
   "metadata": {},
   "outputs": [
    {
     "name": "stdout",
     "output_type": "stream",
     "text": [
      "  message: Optimization terminated successfully.\n",
      "  success: True\n",
      "   status: 0\n",
      "      fun: -0.00022597732552447937\n",
      "        x: [ 1.176e-02]\n",
      "      nit: 2\n",
      "      jac: [ 4.054e-07]\n",
      " hess_inv: [[ 3.040e-01]]\n",
      "     nfev: 8\n",
      "     njev: 4\n"
     ]
    }
   ],
   "source": [
    "cycle = find_cycle(G, tokens)\n",
    "\n",
    "def prof(q):\n",
    "    return revenue(q, cycle, data)+q\n",
    "\n",
    "m = -minimize(prof, [0.0000001]).fun\n",
    "print(minimize(prof, [0.0000001]))"
   ]
  },
  {
   "cell_type": "code",
   "execution_count": 808,
   "id": "a5bacfe0",
   "metadata": {},
   "outputs": [],
   "source": [
    "filename = \"Profits.xlsx\"\n",
    "workbook = load_workbook(filename)\n",
    "worksheet = workbook.active\n",
    "data = {'Quantity': [m], 'Security': [cycle[0]], 'Date': [date]}\n",
    "for record in list(zip(*data.values())):\n",
    "    worksheet.append(record)\n",
    "    \n",
    "workbook.save(filename)"
   ]
  },
  {
   "cell_type": "code",
   "execution_count": 809,
   "id": "80fcfadc",
   "metadata": {},
   "outputs": [
    {
     "data": {
      "text/plain": [
       "0.00022597732552447937"
      ]
     },
     "execution_count": 809,
     "metadata": {},
     "output_type": "execute_result"
    }
   ],
   "source": [
    "m"
   ]
  },
  {
   "cell_type": "code",
   "execution_count": null,
   "id": "ddc69671",
   "metadata": {},
   "outputs": [],
   "source": []
  }
 ],
 "metadata": {
  "kernelspec": {
   "display_name": "Python 3 (ipykernel)",
   "language": "python",
   "name": "python3"
  },
  "language_info": {
   "codemirror_mode": {
    "name": "ipython",
    "version": 3
   },
   "file_extension": ".py",
   "mimetype": "text/x-python",
   "name": "python",
   "nbconvert_exporter": "python",
   "pygments_lexer": "ipython3",
   "version": "3.8.8"
  }
 },
 "nbformat": 4,
 "nbformat_minor": 5
}
