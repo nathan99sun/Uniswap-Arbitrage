{
 "cells": [
  {
   "cell_type": "code",
   "execution_count": 7,
   "id": "14aa1b43",
   "metadata": {},
   "outputs": [],
   "source": [
    "from scipy.sparse import csr_matrix\n",
    "from scipy.sparse.csgraph import bellman_ford\n",
    "from scipy.optimize import minimize\n",
    "import pandas as pd\n",
    "import numpy as np\n",
    "import re\n",
    "import networkx as nx\n",
    "from openpyxl import load_workbook"
   ]
  },
  {
   "cell_type": "code",
   "execution_count": 10,
   "id": "cb2b2a94",
   "metadata": {},
   "outputs": [
    {
     "ename": "FileNotFoundError",
     "evalue": "[Errno 2] No such file or directory: '../Data/1.2.24.xlsx'",
     "output_type": "error",
     "traceback": [
      "\u001b[0;31m---------------------------------------------------------------------------\u001b[0m",
      "\u001b[0;31mFileNotFoundError\u001b[0m                         Traceback (most recent call last)",
      "Cell \u001b[0;32mIn[10], line 1\u001b[0m\n\u001b[0;32m----> 1\u001b[0m data \u001b[38;5;241m=\u001b[39m \u001b[43mpd\u001b[49m\u001b[38;5;241;43m.\u001b[39;49m\u001b[43mread_excel\u001b[49m\u001b[43m(\u001b[49m\u001b[38;5;124;43m\"\u001b[39;49m\u001b[38;5;124;43m../Data/1.2.24.xlsx\u001b[39;49m\u001b[38;5;124;43m\"\u001b[39;49m\u001b[43m)\u001b[49m\n\u001b[1;32m      2\u001b[0m date \u001b[38;5;241m=\u001b[39m \u001b[38;5;28mstr\u001b[39m(data[\u001b[38;5;124m\"\u001b[39m\u001b[38;5;124mDate\u001b[39m\u001b[38;5;124m\"\u001b[39m][\u001b[38;5;241m0\u001b[39m]\u001b[38;5;241m.\u001b[39mmonth) \u001b[38;5;241m+\u001b[39m \u001b[38;5;124m\"\u001b[39m\u001b[38;5;124m/\u001b[39m\u001b[38;5;124m\"\u001b[39m \u001b[38;5;241m+\u001b[39m \u001b[38;5;28mstr\u001b[39m(data[\u001b[38;5;124m\"\u001b[39m\u001b[38;5;124mDate\u001b[39m\u001b[38;5;124m\"\u001b[39m][\u001b[38;5;241m0\u001b[39m]\u001b[38;5;241m.\u001b[39mday) \u001b[38;5;241m+\u001b[39m \u001b[38;5;124m\"\u001b[39m\u001b[38;5;124m/\u001b[39m\u001b[38;5;124m\"\u001b[39m \u001b[38;5;241m+\u001b[39m \u001b[38;5;28mstr\u001b[39m(data[\u001b[38;5;124m\"\u001b[39m\u001b[38;5;124mDate\u001b[39m\u001b[38;5;124m\"\u001b[39m][\u001b[38;5;241m0\u001b[39m]\u001b[38;5;241m.\u001b[39myear)\n\u001b[1;32m      4\u001b[0m tokens \u001b[38;5;241m=\u001b[39m []\n",
      "File \u001b[0;32m~/opt/anaconda3/lib/python3.8/site-packages/pandas/util/_decorators.py:211\u001b[0m, in \u001b[0;36mdeprecate_kwarg.<locals>._deprecate_kwarg.<locals>.wrapper\u001b[0;34m(*args, **kwargs)\u001b[0m\n\u001b[1;32m    209\u001b[0m     \u001b[38;5;28;01melse\u001b[39;00m:\n\u001b[1;32m    210\u001b[0m         kwargs[new_arg_name] \u001b[38;5;241m=\u001b[39m new_arg_value\n\u001b[0;32m--> 211\u001b[0m \u001b[38;5;28;01mreturn\u001b[39;00m \u001b[43mfunc\u001b[49m\u001b[43m(\u001b[49m\u001b[38;5;241;43m*\u001b[39;49m\u001b[43margs\u001b[49m\u001b[43m,\u001b[49m\u001b[43m \u001b[49m\u001b[38;5;241;43m*\u001b[39;49m\u001b[38;5;241;43m*\u001b[39;49m\u001b[43mkwargs\u001b[49m\u001b[43m)\u001b[49m\n",
      "File \u001b[0;32m~/opt/anaconda3/lib/python3.8/site-packages/pandas/util/_decorators.py:331\u001b[0m, in \u001b[0;36mdeprecate_nonkeyword_arguments.<locals>.decorate.<locals>.wrapper\u001b[0;34m(*args, **kwargs)\u001b[0m\n\u001b[1;32m    325\u001b[0m \u001b[38;5;28;01mif\u001b[39;00m \u001b[38;5;28mlen\u001b[39m(args) \u001b[38;5;241m>\u001b[39m num_allow_args:\n\u001b[1;32m    326\u001b[0m     warnings\u001b[38;5;241m.\u001b[39mwarn(\n\u001b[1;32m    327\u001b[0m         msg\u001b[38;5;241m.\u001b[39mformat(arguments\u001b[38;5;241m=\u001b[39m_format_argument_list(allow_args)),\n\u001b[1;32m    328\u001b[0m         \u001b[38;5;167;01mFutureWarning\u001b[39;00m,\n\u001b[1;32m    329\u001b[0m         stacklevel\u001b[38;5;241m=\u001b[39mfind_stack_level(),\n\u001b[1;32m    330\u001b[0m     )\n\u001b[0;32m--> 331\u001b[0m \u001b[38;5;28;01mreturn\u001b[39;00m \u001b[43mfunc\u001b[49m\u001b[43m(\u001b[49m\u001b[38;5;241;43m*\u001b[39;49m\u001b[43margs\u001b[49m\u001b[43m,\u001b[49m\u001b[43m \u001b[49m\u001b[38;5;241;43m*\u001b[39;49m\u001b[38;5;241;43m*\u001b[39;49m\u001b[43mkwargs\u001b[49m\u001b[43m)\u001b[49m\n",
      "File \u001b[0;32m~/opt/anaconda3/lib/python3.8/site-packages/pandas/io/excel/_base.py:482\u001b[0m, in \u001b[0;36mread_excel\u001b[0;34m(io, sheet_name, header, names, index_col, usecols, squeeze, dtype, engine, converters, true_values, false_values, skiprows, nrows, na_values, keep_default_na, na_filter, verbose, parse_dates, date_parser, thousands, decimal, comment, skipfooter, convert_float, mangle_dupe_cols, storage_options)\u001b[0m\n\u001b[1;32m    480\u001b[0m \u001b[38;5;28;01mif\u001b[39;00m \u001b[38;5;129;01mnot\u001b[39;00m \u001b[38;5;28misinstance\u001b[39m(io, ExcelFile):\n\u001b[1;32m    481\u001b[0m     should_close \u001b[38;5;241m=\u001b[39m \u001b[38;5;28;01mTrue\u001b[39;00m\n\u001b[0;32m--> 482\u001b[0m     io \u001b[38;5;241m=\u001b[39m \u001b[43mExcelFile\u001b[49m\u001b[43m(\u001b[49m\u001b[43mio\u001b[49m\u001b[43m,\u001b[49m\u001b[43m \u001b[49m\u001b[43mstorage_options\u001b[49m\u001b[38;5;241;43m=\u001b[39;49m\u001b[43mstorage_options\u001b[49m\u001b[43m,\u001b[49m\u001b[43m \u001b[49m\u001b[43mengine\u001b[49m\u001b[38;5;241;43m=\u001b[39;49m\u001b[43mengine\u001b[49m\u001b[43m)\u001b[49m\n\u001b[1;32m    483\u001b[0m \u001b[38;5;28;01melif\u001b[39;00m engine \u001b[38;5;129;01mand\u001b[39;00m engine \u001b[38;5;241m!=\u001b[39m io\u001b[38;5;241m.\u001b[39mengine:\n\u001b[1;32m    484\u001b[0m     \u001b[38;5;28;01mraise\u001b[39;00m \u001b[38;5;167;01mValueError\u001b[39;00m(\n\u001b[1;32m    485\u001b[0m         \u001b[38;5;124m\"\u001b[39m\u001b[38;5;124mEngine should not be specified when passing \u001b[39m\u001b[38;5;124m\"\u001b[39m\n\u001b[1;32m    486\u001b[0m         \u001b[38;5;124m\"\u001b[39m\u001b[38;5;124man ExcelFile - ExcelFile already has the engine set\u001b[39m\u001b[38;5;124m\"\u001b[39m\n\u001b[1;32m    487\u001b[0m     )\n",
      "File \u001b[0;32m~/opt/anaconda3/lib/python3.8/site-packages/pandas/io/excel/_base.py:1652\u001b[0m, in \u001b[0;36mExcelFile.__init__\u001b[0;34m(self, path_or_buffer, engine, storage_options)\u001b[0m\n\u001b[1;32m   1650\u001b[0m     ext \u001b[38;5;241m=\u001b[39m \u001b[38;5;124m\"\u001b[39m\u001b[38;5;124mxls\u001b[39m\u001b[38;5;124m\"\u001b[39m\n\u001b[1;32m   1651\u001b[0m \u001b[38;5;28;01melse\u001b[39;00m:\n\u001b[0;32m-> 1652\u001b[0m     ext \u001b[38;5;241m=\u001b[39m \u001b[43minspect_excel_format\u001b[49m\u001b[43m(\u001b[49m\n\u001b[1;32m   1653\u001b[0m \u001b[43m        \u001b[49m\u001b[43mcontent_or_path\u001b[49m\u001b[38;5;241;43m=\u001b[39;49m\u001b[43mpath_or_buffer\u001b[49m\u001b[43m,\u001b[49m\u001b[43m \u001b[49m\u001b[43mstorage_options\u001b[49m\u001b[38;5;241;43m=\u001b[39;49m\u001b[43mstorage_options\u001b[49m\n\u001b[1;32m   1654\u001b[0m \u001b[43m    \u001b[49m\u001b[43m)\u001b[49m\n\u001b[1;32m   1655\u001b[0m     \u001b[38;5;28;01mif\u001b[39;00m ext \u001b[38;5;129;01mis\u001b[39;00m \u001b[38;5;28;01mNone\u001b[39;00m:\n\u001b[1;32m   1656\u001b[0m         \u001b[38;5;28;01mraise\u001b[39;00m \u001b[38;5;167;01mValueError\u001b[39;00m(\n\u001b[1;32m   1657\u001b[0m             \u001b[38;5;124m\"\u001b[39m\u001b[38;5;124mExcel file format cannot be determined, you must specify \u001b[39m\u001b[38;5;124m\"\u001b[39m\n\u001b[1;32m   1658\u001b[0m             \u001b[38;5;124m\"\u001b[39m\u001b[38;5;124man engine manually.\u001b[39m\u001b[38;5;124m\"\u001b[39m\n\u001b[1;32m   1659\u001b[0m         )\n",
      "File \u001b[0;32m~/opt/anaconda3/lib/python3.8/site-packages/pandas/io/excel/_base.py:1525\u001b[0m, in \u001b[0;36minspect_excel_format\u001b[0;34m(content_or_path, storage_options)\u001b[0m\n\u001b[1;32m   1522\u001b[0m \u001b[38;5;28;01mif\u001b[39;00m \u001b[38;5;28misinstance\u001b[39m(content_or_path, \u001b[38;5;28mbytes\u001b[39m):\n\u001b[1;32m   1523\u001b[0m     content_or_path \u001b[38;5;241m=\u001b[39m BytesIO(content_or_path)\n\u001b[0;32m-> 1525\u001b[0m \u001b[38;5;28;01mwith\u001b[39;00m \u001b[43mget_handle\u001b[49m\u001b[43m(\u001b[49m\n\u001b[1;32m   1526\u001b[0m \u001b[43m    \u001b[49m\u001b[43mcontent_or_path\u001b[49m\u001b[43m,\u001b[49m\u001b[43m \u001b[49m\u001b[38;5;124;43m\"\u001b[39;49m\u001b[38;5;124;43mrb\u001b[39;49m\u001b[38;5;124;43m\"\u001b[39;49m\u001b[43m,\u001b[49m\u001b[43m \u001b[49m\u001b[43mstorage_options\u001b[49m\u001b[38;5;241;43m=\u001b[39;49m\u001b[43mstorage_options\u001b[49m\u001b[43m,\u001b[49m\u001b[43m \u001b[49m\u001b[43mis_text\u001b[49m\u001b[38;5;241;43m=\u001b[39;49m\u001b[38;5;28;43;01mFalse\u001b[39;49;00m\n\u001b[1;32m   1527\u001b[0m \u001b[43m\u001b[49m\u001b[43m)\u001b[49m \u001b[38;5;28;01mas\u001b[39;00m handle:\n\u001b[1;32m   1528\u001b[0m     stream \u001b[38;5;241m=\u001b[39m handle\u001b[38;5;241m.\u001b[39mhandle\n\u001b[1;32m   1529\u001b[0m     stream\u001b[38;5;241m.\u001b[39mseek(\u001b[38;5;241m0\u001b[39m)\n",
      "File \u001b[0;32m~/opt/anaconda3/lib/python3.8/site-packages/pandas/io/common.py:865\u001b[0m, in \u001b[0;36mget_handle\u001b[0;34m(path_or_buf, mode, encoding, compression, memory_map, is_text, errors, storage_options)\u001b[0m\n\u001b[1;32m    856\u001b[0m         handle \u001b[38;5;241m=\u001b[39m \u001b[38;5;28mopen\u001b[39m(\n\u001b[1;32m    857\u001b[0m             handle,\n\u001b[1;32m    858\u001b[0m             ioargs\u001b[38;5;241m.\u001b[39mmode,\n\u001b[0;32m   (...)\u001b[0m\n\u001b[1;32m    861\u001b[0m             newline\u001b[38;5;241m=\u001b[39m\u001b[38;5;124m\"\u001b[39m\u001b[38;5;124m\"\u001b[39m,\n\u001b[1;32m    862\u001b[0m         )\n\u001b[1;32m    863\u001b[0m     \u001b[38;5;28;01melse\u001b[39;00m:\n\u001b[1;32m    864\u001b[0m         \u001b[38;5;66;03m# Binary mode\u001b[39;00m\n\u001b[0;32m--> 865\u001b[0m         handle \u001b[38;5;241m=\u001b[39m \u001b[38;5;28;43mopen\u001b[39;49m\u001b[43m(\u001b[49m\u001b[43mhandle\u001b[49m\u001b[43m,\u001b[49m\u001b[43m \u001b[49m\u001b[43mioargs\u001b[49m\u001b[38;5;241;43m.\u001b[39;49m\u001b[43mmode\u001b[49m\u001b[43m)\u001b[49m\n\u001b[1;32m    866\u001b[0m     handles\u001b[38;5;241m.\u001b[39mappend(handle)\n\u001b[1;32m    868\u001b[0m \u001b[38;5;66;03m# Convert BytesIO or file objects passed with an encoding\u001b[39;00m\n",
      "\u001b[0;31mFileNotFoundError\u001b[0m: [Errno 2] No such file or directory: '../Data/1.2.24.xlsx'"
     ]
    }
   ],
   "source": [
    "data = pd.read_excel(\"Data/1.2.24.xlsx\")\n",
    "date = str(data[\"Date\"][0].month) + \"/\" + str(data[\"Date\"][0].day) + \"/\" + str(data[\"Date\"][0].year)\n",
    "\n",
    "tokens = []\n",
    "for elt in data['Pool Tokens']:\n",
    "    res = re.split(' / ', elt)\n",
    "    if res[0] not in tokens:\n",
    "        tokens.append(res[0])\n",
    "    if res[1] not in tokens:\n",
    "        tokens.append(res[1])\n",
    "        \n",
    "l = len(tokens)"
   ]
  },
  {
   "cell_type": "code",
   "execution_count": null,
   "id": "70eb8073",
   "metadata": {},
   "outputs": [],
   "source": [
    "# graph=pd.DataFrame(np.zeros((l,l)),columns=tokens,index=tokens)\n",
    "# for index, row in data[['Pool Tokens', 'Volume Token 0 (Excel)', 'Volume Token 1 (Excel)', 'Volume USD (Excel)', 'Fees USD (Excel)']].iterrows():\n",
    "#     token1, token2 = re.split(' / ', row[0])\n",
    "#     volume1 = row[1]\n",
    "#     volume2 = row[2]\n",
    "#     if volume1 == volume2 and volume1 !=0 and volume2 !=0:\n",
    "#         raise Exception(\"EQUALITY\")\n",
    "#     if volume1 != 0 and volume2 !=0:\n",
    "#         if row[3] !=0:\n",
    "#             feetier = row[4]/row[3]\n",
    "#         else:\n",
    "#             feetier = 0.003\n",
    "#         #print(feetier)\n",
    "#         graph.loc[token1, token2] = -np.log(volume2/volume1 * (1-feetier))\n",
    "#         graph.loc[token2, token1] = -np.log(volume1/volume2 * (1-feetier))"
   ]
  },
  {
   "cell_type": "code",
   "execution_count": null,
   "id": "1212c9ac",
   "metadata": {},
   "outputs": [],
   "source": [
    "# graph = [\n",
    "# [0, np.log(9/16) ,np.log(18/25)],\n",
    "# [np.log(16/9), 0, np.log(32/25)],\n",
    "# [np.log(25/18), np.log(25/32), 0]\n",
    "# ] -3.489095140951183\n",
    "# graph = csr_matrix(graph)\n",
    "# print(graph)"
   ]
  },
  {
   "cell_type": "code",
   "execution_count": null,
   "id": "48ea8c10",
   "metadata": {},
   "outputs": [],
   "source": [
    "#dist_matrix, predecessors = bellman_ford(csgraph=graph, directed=True, return_predecessors=True)"
   ]
  },
  {
   "cell_type": "code",
   "execution_count": 3,
   "id": "2840adc1",
   "metadata": {},
   "outputs": [],
   "source": [
    "#dist_matrix"
   ]
  },
  {
   "cell_type": "code",
   "execution_count": 4,
   "id": "ab6342a7",
   "metadata": {},
   "outputs": [
    {
     "ename": "NameError",
     "evalue": "name 'tokens' is not defined",
     "output_type": "error",
     "traceback": [
      "\u001b[0;31m---------------------------------------------------------------------------\u001b[0m",
      "\u001b[0;31mNameError\u001b[0m                                 Traceback (most recent call last)",
      "Cell \u001b[0;32mIn[4], line 2\u001b[0m\n\u001b[1;32m      1\u001b[0m G \u001b[38;5;241m=\u001b[39m nx\u001b[38;5;241m.\u001b[39mDiGraph()\n\u001b[0;32m----> 2\u001b[0m \u001b[38;5;28;01mfor\u001b[39;00m elt \u001b[38;5;129;01min\u001b[39;00m \u001b[43mtokens\u001b[49m:\n\u001b[1;32m      3\u001b[0m     G\u001b[38;5;241m.\u001b[39madd_node(elt)\n\u001b[1;32m      4\u001b[0m \u001b[38;5;28;01mfor\u001b[39;00m index, row \u001b[38;5;129;01min\u001b[39;00m data[[\u001b[38;5;124m'\u001b[39m\u001b[38;5;124mPool Tokens\u001b[39m\u001b[38;5;124m'\u001b[39m, \u001b[38;5;124m'\u001b[39m\u001b[38;5;124mVolume Token 0 (Excel)\u001b[39m\u001b[38;5;124m'\u001b[39m, \u001b[38;5;124m'\u001b[39m\u001b[38;5;124mVolume Token 1 (Excel)\u001b[39m\u001b[38;5;124m'\u001b[39m, \u001b[38;5;124m'\u001b[39m\u001b[38;5;124mVolume USD (Excel)\u001b[39m\u001b[38;5;124m'\u001b[39m, \u001b[38;5;124m'\u001b[39m\u001b[38;5;124mFees USD (Excel)\u001b[39m\u001b[38;5;124m'\u001b[39m]]\u001b[38;5;241m.\u001b[39miterrows():\n",
      "\u001b[0;31mNameError\u001b[0m: name 'tokens' is not defined"
     ]
    }
   ],
   "source": [
    "G = nx.DiGraph()\n",
    "for elt in tokens:\n",
    "    G.add_node(elt)\n",
    "for index, row in data[['Pool Tokens', 'Volume Token 0 (Excel)', 'Volume Token 1 (Excel)', 'Volume USD (Excel)', 'Fees USD (Excel)']].iterrows():\n",
    "    token1, token2 = re.split(' / ', row[0])\n",
    "    volume1 = row[1]\n",
    "    volume2 = row[2]\n",
    "    if volume1 == volume2 and volume1 !=0 and volume2 !=0:\n",
    "        raise Exception(\"EQUALITY\")\n",
    "    if volume1 != 0 and volume2 !=0:\n",
    "        if row[3] !=0:\n",
    "            feetier = row[4]/row[3]\n",
    "        else:\n",
    "            feetier = 0.003\n",
    "        #print(feetier)\n",
    "        G.add_weighted_edges_from( [(token1, token2, -np.log(volume2/volume1 * (1-feetier)))] )\n",
    "        G.add_weighted_edges_from( [(token2, token1, -np.log(volume1/volume2 * (1-feetier)))] )"
   ]
  },
  {
   "cell_type": "code",
   "execution_count": 5,
   "id": "8a49087f",
   "metadata": {},
   "outputs": [
    {
     "ename": "NameError",
     "evalue": "name 'tokens' is not defined",
     "output_type": "error",
     "traceback": [
      "\u001b[0;31m---------------------------------------------------------------------------\u001b[0m",
      "\u001b[0;31mNameError\u001b[0m                                 Traceback (most recent call last)",
      "Cell \u001b[0;32mIn[5], line 9\u001b[0m\n\u001b[1;32m      7\u001b[0m         \u001b[38;5;28;01melse\u001b[39;00m:\n\u001b[1;32m      8\u001b[0m             \u001b[38;5;28;01mreturn\u001b[39;00m nx\u001b[38;5;241m.\u001b[39mfind_negative_cycle(G, t)\n\u001b[0;32m----> 9\u001b[0m find_cycle(G, \u001b[43mtokens\u001b[49m)\n",
      "\u001b[0;31mNameError\u001b[0m: name 'tokens' is not defined"
     ]
    }
   ],
   "source": [
    "def find_cycle(G, tokens):\n",
    "    for t in tokens:\n",
    "        try:\n",
    "            nx.find_negative_cycle(G, t)\n",
    "        except Exception:\n",
    "            pass\n",
    "        else:\n",
    "            return nx.find_negative_cycle(G, t)\n",
    "find_cycle(G, tokens)"
   ]
  },
  {
   "cell_type": "code",
   "execution_count": 6,
   "id": "3e7d9b6f",
   "metadata": {},
   "outputs": [],
   "source": [
    "# WRITE PROGRAM THAT NUMERICALLY CALCULATES HOW MUCH YOU GAINED IN ARBITRAGE"
   ]
  },
  {
   "cell_type": "code",
   "execution_count": 806,
   "id": "a25a381e",
   "metadata": {},
   "outputs": [],
   "source": [
    "def uniswap_rate(A,B,alpha):\n",
    "    return B/(A*(1+alpha/A)**2)\n",
    "\n",
    "def revenue(q, cycle, dataset):\n",
    "    pools = []\n",
    "    for i in range(len(cycle)-1):\n",
    "        token1 = cycle[i]\n",
    "        token2 = cycle[i+1]\n",
    "        if dataset.isin([token1 + \" / \" + token2]).any().any():\n",
    "            pool =  dataset.loc[(dataset[\"Pool Tokens\"] == token1 + \" / \" + token2)].iloc[-1]\n",
    "            q1 = pool[\"Volume Token 0 (Excel)\"]\n",
    "            q2 = pool[\"Volume Token 1 (Excel)\"]\n",
    "        else:\n",
    "            pool =  dataset.loc[(dataset[\"Pool Tokens\"] == token2 + \" / \" + token1)].iloc[-1]\n",
    "            q2 = pool[\"Volume Token 0 (Excel)\"]\n",
    "            q1 = pool[\"Volume Token 1 (Excel)\"]\n",
    "        \n",
    "        volume = pool['Volume USD (Excel)']\n",
    "        fees = pool['Fees USD (Excel)']\n",
    "        \n",
    "        if volume != 0:\n",
    "            feetier = fees/volume\n",
    "        else:\n",
    "            feetier = 0.003\n",
    "        \n",
    "        \n",
    "        pools.append([q1,q2,feetier])\n",
    "    alpha = q\n",
    "    for [q1,q2,feetier] in pools:\n",
    "        if alpha > q1:\n",
    "            return np.inf\n",
    "        beta = (1-feetier) * alpha * uniswap_rate(q1,q2,alpha)\n",
    "        alpha = beta\n",
    "    return -beta"
   ]
  },
  {
   "cell_type": "code",
   "execution_count": 807,
   "id": "22283e23",
   "metadata": {},
   "outputs": [
    {
     "name": "stdout",
     "output_type": "stream",
     "text": [
      "  message: Optimization terminated successfully.\n",
      "  success: True\n",
      "   status: 0\n",
      "      fun: -0.00022597732552447937\n",
      "        x: [ 1.176e-02]\n",
      "      nit: 2\n",
      "      jac: [ 4.054e-07]\n",
      " hess_inv: [[ 3.040e-01]]\n",
      "     nfev: 8\n",
      "     njev: 4\n"
     ]
    }
   ],
   "source": [
    "cycle = find_cycle(G, tokens)\n",
    "\n",
    "def prof(q):\n",
    "    return revenue(q, cycle, data)+q\n",
    "\n",
    "m = -minimize(prof, [0.0000001]).fun\n",
    "print(minimize(prof, [0.0000001]))"
   ]
  },
  {
   "cell_type": "code",
   "execution_count": 808,
   "id": "a5bacfe0",
   "metadata": {},
   "outputs": [],
   "source": [
    "filename = \"Profits.xlsx\"\n",
    "workbook = load_workbook(filename)\n",
    "worksheet = workbook.active\n",
    "data = {'Quantity': [m], 'Security': [cycle[0]], 'Date': [date]}\n",
    "for record in list(zip(*data.values())):\n",
    "    worksheet.append(record)\n",
    "    \n",
    "workbook.save(filename)"
   ]
  },
  {
   "cell_type": "code",
   "execution_count": 809,
   "id": "80fcfadc",
   "metadata": {},
   "outputs": [
    {
     "data": {
      "text/plain": [
       "0.00022597732552447937"
      ]
     },
     "execution_count": 809,
     "metadata": {},
     "output_type": "execute_result"
    }
   ],
   "source": [
    "m"
   ]
  },
  {
   "cell_type": "code",
   "execution_count": null,
   "id": "ddc69671",
   "metadata": {},
   "outputs": [],
   "source": []
  }
 ],
 "metadata": {
  "kernelspec": {
   "display_name": "Python 3 (ipykernel)",
   "language": "python",
   "name": "python3"
  },
  "language_info": {
   "codemirror_mode": {
    "name": "ipython",
    "version": 3
   },
   "file_extension": ".py",
   "mimetype": "text/x-python",
   "name": "python",
   "nbconvert_exporter": "python",
   "pygments_lexer": "ipython3",
   "version": "3.8.8"
  }
 },
 "nbformat": 4,
 "nbformat_minor": 5
}
